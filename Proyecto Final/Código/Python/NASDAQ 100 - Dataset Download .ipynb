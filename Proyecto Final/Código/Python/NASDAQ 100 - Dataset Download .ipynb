{
 "cells": [
  {
   "cell_type": "code",
   "execution_count": 37,
   "id": "ed6970a2",
   "metadata": {},
   "outputs": [],
   "source": [
    "# import modules\n",
    "import datetime\n",
    "import numpy as np\n",
    "import pandas as pd\n",
    "import yfinance as yf\n",
    "from random import sample"
   ]
  },
  {
   "cell_type": "code",
   "execution_count": 38,
   "id": "f68b3094",
   "metadata": {},
   "outputs": [],
   "source": [
    "# read csv with symbols of stocks in the NASDAQ-100\n",
    "df_symbols = pd.read_csv(r'NASDAQ_100_Symbols.csv', low_memory=False)\n",
    "Symbols    = df_symbols['Symbol'].tolist()"
   ]
  },
  {
   "cell_type": "code",
   "execution_count": 39,
   "id": "b4735a43",
   "metadata": {},
   "outputs": [
    {
     "data": {
      "text/plain": [
       "102"
      ]
     },
     "execution_count": 39,
     "metadata": {},
     "output_type": "execute_result"
    }
   ],
   "source": [
    "# stocks listed as of May 11th, 2020.\n",
    "len(Symbols)"
   ]
  },
  {
   "cell_type": "code",
   "execution_count": 40,
   "id": "35636ab1",
   "metadata": {},
   "outputs": [],
   "source": [
    "start = datetime.datetime(2021, 1, 1)         # format: y, m, d\n",
    "end   = datetime.datetime(2022, 5, 20)        # until May 20th, 2020.\n",
    "d_range = pd.date_range(start, end, freq='D') # data range"
   ]
  },
  {
   "cell_type": "code",
   "execution_count": 41,
   "id": "f41e0291",
   "metadata": {},
   "outputs": [
    {
     "name": "stdout",
     "output_type": "stream",
     "text": [
      "0 : AAPL,1 : ABNB,2 : ADBE,3 : ADI,4 : ADP,5 : ADSK,6 : AEP,7 : ALGN,8 : AMAT,9 : AMD,10 : AMGN,11 : AMZN,12 : ANSS,13 : ASML,14 : ATVI,15 : AVGO,16 : AZN,17 : BIDU,18 : BIIB,19 : BKNG,20 : CDNS,21 : CEG,22 : CHTR,23 : CMCSA,24 : COST,25 : CPRT,26 : CRWD,27 : CSCO,28 : CSX,29 : CTAS,30 : CTSH,31 : DDOG,32 : DLTR,33 : DOCU,34 : DXCM,35 : EA,36 : EBAY,37 : EXC,38 : FAST,39 : FB,40 : FISV,41 : FTNT,42 : GILD,43 : GOOG,44 : GOOGL,45 : HON,46 : IDXX,47 : ILMN,48 : INTC,49 : INTU,50 : ISRG,51 : JD,52 : KDP,53 : KHC,54 : KLAC,55 : LCID,56 : LRCX,57 : LULU,58 : MAR,59 : MCHP,60 : MDLZ,61 : MELI,62 : MNST,63 : MRNA,64 : MRVL,65 : MSFT,66 : MTCH,67 : MU,68 : NFLX,69 : NTES,70 : NVDA,71 : NXPI,72 : ODFL,73 : OKTA,74 : ORLY,75 : PANW,76 : PAYX,77 : PCAR,78 : PDD,79 : PEP,80 : PYPL,81 : QCOM,82 : REGN,83 : ROST,84 : SBUX,85 : SGEN,86 : SIRI,87 : SNPS,88 : SPLK,89 : SWKS,90 : TEAM,91 : TMUS,92 : TSLA,93 : TXN,94 : VRSK,95 : VRSN,96 : VRTX,97 : WBA,98 : WDAY,99 : XEL,100 : ZM,101 : ZS,\n",
      "1 Failed download:\n",
      "- ZS: No data found for this date range, symbol may be delisted\n"
     ]
    }
   ],
   "source": [
    "# empty dataframe\n",
    "NASDAQ_100_ = pd.DataFrame() # iteramos sobre cada ticker\n",
    "\n",
    "# Downloads Dataset of NASDAQ 100 Stocks\n",
    "for i in Symbols:  \n",
    "    \n",
    "    # imprime que ticker se está descargando\n",
    "    print( str(Symbols.index(i)) + str(' : ') + i, sep=',', end=',', flush=True)  \n",
    "    \n",
    "    try:\n",
    "        # download the stock price \n",
    "        stock = []\n",
    "        stock = yf.download(i,start=start, end=end, progress=False)\n",
    "        \n",
    "        # append the individual stock prices \n",
    "        if len(stock) == 0:\n",
    "            None\n",
    "        else:\n",
    "            stock['Name'] = i\n",
    "            NASDAQ_100_   = pd.concat([NASDAQ_100_, stock],sort=False)\n",
    "\n",
    "    except Exception:\n",
    "        None"
   ]
  },
  {
   "cell_type": "code",
   "execution_count": 42,
   "id": "6884b457",
   "metadata": {},
   "outputs": [
    {
     "data": {
      "text/html": [
       "<div>\n",
       "<style scoped>\n",
       "    .dataframe tbody tr th:only-of-type {\n",
       "        vertical-align: middle;\n",
       "    }\n",
       "\n",
       "    .dataframe tbody tr th {\n",
       "        vertical-align: top;\n",
       "    }\n",
       "\n",
       "    .dataframe thead th {\n",
       "        text-align: right;\n",
       "    }\n",
       "</style>\n",
       "<table border=\"1\" class=\"dataframe\">\n",
       "  <thead>\n",
       "    <tr style=\"text-align: right;\">\n",
       "      <th></th>\n",
       "      <th>Open</th>\n",
       "      <th>High</th>\n",
       "      <th>Low</th>\n",
       "      <th>Close</th>\n",
       "      <th>Adj Close</th>\n",
       "      <th>Volume</th>\n",
       "      <th>Name</th>\n",
       "    </tr>\n",
       "    <tr>\n",
       "      <th>Date</th>\n",
       "      <th></th>\n",
       "      <th></th>\n",
       "      <th></th>\n",
       "      <th></th>\n",
       "      <th></th>\n",
       "      <th></th>\n",
       "      <th></th>\n",
       "    </tr>\n",
       "  </thead>\n",
       "  <tbody>\n",
       "    <tr>\n",
       "      <th>2021-01-04</th>\n",
       "      <td>133.520004</td>\n",
       "      <td>133.610001</td>\n",
       "      <td>126.760002</td>\n",
       "      <td>129.410004</td>\n",
       "      <td>128.264984</td>\n",
       "      <td>143301900</td>\n",
       "      <td>AAPL</td>\n",
       "    </tr>\n",
       "    <tr>\n",
       "      <th>2021-01-05</th>\n",
       "      <td>128.889999</td>\n",
       "      <td>131.740005</td>\n",
       "      <td>128.429993</td>\n",
       "      <td>131.009995</td>\n",
       "      <td>129.850830</td>\n",
       "      <td>97664900</td>\n",
       "      <td>AAPL</td>\n",
       "    </tr>\n",
       "    <tr>\n",
       "      <th>2021-01-06</th>\n",
       "      <td>127.720001</td>\n",
       "      <td>131.050003</td>\n",
       "      <td>126.379997</td>\n",
       "      <td>126.599998</td>\n",
       "      <td>125.479836</td>\n",
       "      <td>155088000</td>\n",
       "      <td>AAPL</td>\n",
       "    </tr>\n",
       "    <tr>\n",
       "      <th>2021-01-07</th>\n",
       "      <td>128.360001</td>\n",
       "      <td>131.630005</td>\n",
       "      <td>127.860001</td>\n",
       "      <td>130.919998</td>\n",
       "      <td>129.761642</td>\n",
       "      <td>109578200</td>\n",
       "      <td>AAPL</td>\n",
       "    </tr>\n",
       "    <tr>\n",
       "      <th>2021-01-08</th>\n",
       "      <td>132.429993</td>\n",
       "      <td>132.630005</td>\n",
       "      <td>130.229996</td>\n",
       "      <td>132.050003</td>\n",
       "      <td>130.881638</td>\n",
       "      <td>105158200</td>\n",
       "      <td>AAPL</td>\n",
       "    </tr>\n",
       "    <tr>\n",
       "      <th>...</th>\n",
       "      <td>...</td>\n",
       "      <td>...</td>\n",
       "      <td>...</td>\n",
       "      <td>...</td>\n",
       "      <td>...</td>\n",
       "      <td>...</td>\n",
       "      <td>...</td>\n",
       "    </tr>\n",
       "    <tr>\n",
       "      <th>2022-05-13</th>\n",
       "      <td>88.720001</td>\n",
       "      <td>95.627998</td>\n",
       "      <td>88.253998</td>\n",
       "      <td>94.839996</td>\n",
       "      <td>94.839996</td>\n",
       "      <td>5678800</td>\n",
       "      <td>ZM</td>\n",
       "    </tr>\n",
       "    <tr>\n",
       "      <th>2022-05-16</th>\n",
       "      <td>93.430000</td>\n",
       "      <td>95.830002</td>\n",
       "      <td>88.660004</td>\n",
       "      <td>88.919998</td>\n",
       "      <td>88.919998</td>\n",
       "      <td>4501300</td>\n",
       "      <td>ZM</td>\n",
       "    </tr>\n",
       "    <tr>\n",
       "      <th>2022-05-17</th>\n",
       "      <td>91.360001</td>\n",
       "      <td>95.099998</td>\n",
       "      <td>86.408997</td>\n",
       "      <td>90.940002</td>\n",
       "      <td>90.940002</td>\n",
       "      <td>4208800</td>\n",
       "      <td>ZM</td>\n",
       "    </tr>\n",
       "    <tr>\n",
       "      <th>2022-05-18</th>\n",
       "      <td>88.680000</td>\n",
       "      <td>91.110001</td>\n",
       "      <td>84.040001</td>\n",
       "      <td>84.690002</td>\n",
       "      <td>84.690002</td>\n",
       "      <td>3854200</td>\n",
       "      <td>ZM</td>\n",
       "    </tr>\n",
       "    <tr>\n",
       "      <th>2022-05-19</th>\n",
       "      <td>85.739998</td>\n",
       "      <td>93.489998</td>\n",
       "      <td>84.684998</td>\n",
       "      <td>90.940002</td>\n",
       "      <td>90.940002</td>\n",
       "      <td>4746900</td>\n",
       "      <td>ZM</td>\n",
       "    </tr>\n",
       "  </tbody>\n",
       "</table>\n",
       "<p>34885 rows × 7 columns</p>\n",
       "</div>"
      ],
      "text/plain": [
       "                  Open        High         Low       Close   Adj Close  \\\n",
       "Date                                                                     \n",
       "2021-01-04  133.520004  133.610001  126.760002  129.410004  128.264984   \n",
       "2021-01-05  128.889999  131.740005  128.429993  131.009995  129.850830   \n",
       "2021-01-06  127.720001  131.050003  126.379997  126.599998  125.479836   \n",
       "2021-01-07  128.360001  131.630005  127.860001  130.919998  129.761642   \n",
       "2021-01-08  132.429993  132.630005  130.229996  132.050003  130.881638   \n",
       "...                ...         ...         ...         ...         ...   \n",
       "2022-05-13   88.720001   95.627998   88.253998   94.839996   94.839996   \n",
       "2022-05-16   93.430000   95.830002   88.660004   88.919998   88.919998   \n",
       "2022-05-17   91.360001   95.099998   86.408997   90.940002   90.940002   \n",
       "2022-05-18   88.680000   91.110001   84.040001   84.690002   84.690002   \n",
       "2022-05-19   85.739998   93.489998   84.684998   90.940002   90.940002   \n",
       "\n",
       "               Volume  Name  \n",
       "Date                         \n",
       "2021-01-04  143301900  AAPL  \n",
       "2021-01-05   97664900  AAPL  \n",
       "2021-01-06  155088000  AAPL  \n",
       "2021-01-07  109578200  AAPL  \n",
       "2021-01-08  105158200  AAPL  \n",
       "...               ...   ...  \n",
       "2022-05-13    5678800    ZM  \n",
       "2022-05-16    4501300    ZM  \n",
       "2022-05-17    4208800    ZM  \n",
       "2022-05-18    3854200    ZM  \n",
       "2022-05-19    4746900    ZM  \n",
       "\n",
       "[34885 rows x 7 columns]"
      ]
     },
     "execution_count": 42,
     "metadata": {},
     "output_type": "execute_result"
    }
   ],
   "source": [
    "# Dataset of NASDAQ 100 Stocks\n",
    "NASDAQ_100_"
   ]
  },
  {
   "cell_type": "code",
   "execution_count": 43,
   "id": "3eb3f498",
   "metadata": {},
   "outputs": [
    {
     "ename": "ValueError",
     "evalue": "Length mismatch: Expected axis has 348 elements, new values have 0 elements",
     "output_type": "error",
     "traceback": [
      "\u001b[1;31m---------------------------------------------------------------------------\u001b[0m",
      "\u001b[1;31mValueError\u001b[0m                                Traceback (most recent call last)",
      "Input \u001b[1;32mIn [43]\u001b[0m, in \u001b[0;36m<cell line: 15>\u001b[1;34m()\u001b[0m\n\u001b[0;32m     12\u001b[0m     NASDAQ_100[i] \u001b[38;5;241m=\u001b[39m pd\u001b[38;5;241m.\u001b[39mSeries(NASDAQ_100_[NASDAQ_100_[\u001b[38;5;124m'\u001b[39m\u001b[38;5;124mName\u001b[39m\u001b[38;5;124m'\u001b[39m] \u001b[38;5;241m==\u001b[39m i][\u001b[38;5;124m'\u001b[39m\u001b[38;5;124mClose\u001b[39m\u001b[38;5;124m'\u001b[39m]\u001b[38;5;241m.\u001b[39mvalues)\n\u001b[0;32m     14\u001b[0m NASDAQ_100 \u001b[38;5;241m=\u001b[39m NASDAQ_100\u001b[38;5;241m.\u001b[39mdropna(axis\u001b[38;5;241m=\u001b[39m\u001b[38;5;241m1\u001b[39m)\n\u001b[1;32m---> 15\u001b[0m NASDAQ_100\u001b[38;5;241m.\u001b[39mindex \u001b[38;5;241m=\u001b[39m NASDAQ_100_[NASDAQ_100_[\u001b[38;5;124m'\u001b[39m\u001b[38;5;124mName\u001b[39m\u001b[38;5;124m'\u001b[39m] \u001b[38;5;241m==\u001b[39m i]\u001b[38;5;241m.\u001b[39mindex\n",
      "File \u001b[1;32m~\\conda\\lib\\site-packages\\pandas\\core\\generic.py:5588\u001b[0m, in \u001b[0;36mNDFrame.__setattr__\u001b[1;34m(self, name, value)\u001b[0m\n\u001b[0;32m   5586\u001b[0m \u001b[38;5;28;01mtry\u001b[39;00m:\n\u001b[0;32m   5587\u001b[0m     \u001b[38;5;28mobject\u001b[39m\u001b[38;5;241m.\u001b[39m\u001b[38;5;21m__getattribute__\u001b[39m(\u001b[38;5;28mself\u001b[39m, name)\n\u001b[1;32m-> 5588\u001b[0m     \u001b[38;5;28;01mreturn\u001b[39;00m \u001b[38;5;28;43mobject\u001b[39;49m\u001b[38;5;241;43m.\u001b[39;49m\u001b[38;5;21;43m__setattr__\u001b[39;49m\u001b[43m(\u001b[49m\u001b[38;5;28;43mself\u001b[39;49m\u001b[43m,\u001b[49m\u001b[43m \u001b[49m\u001b[43mname\u001b[49m\u001b[43m,\u001b[49m\u001b[43m \u001b[49m\u001b[43mvalue\u001b[49m\u001b[43m)\u001b[49m\n\u001b[0;32m   5589\u001b[0m \u001b[38;5;28;01mexcept\u001b[39;00m \u001b[38;5;167;01mAttributeError\u001b[39;00m:\n\u001b[0;32m   5590\u001b[0m     \u001b[38;5;28;01mpass\u001b[39;00m\n",
      "File \u001b[1;32m~\\conda\\lib\\site-packages\\pandas\\_libs\\properties.pyx:70\u001b[0m, in \u001b[0;36mpandas._libs.properties.AxisProperty.__set__\u001b[1;34m()\u001b[0m\n",
      "File \u001b[1;32m~\\conda\\lib\\site-packages\\pandas\\core\\generic.py:769\u001b[0m, in \u001b[0;36mNDFrame._set_axis\u001b[1;34m(self, axis, labels)\u001b[0m\n\u001b[0;32m    767\u001b[0m \u001b[38;5;28;01mdef\u001b[39;00m \u001b[38;5;21m_set_axis\u001b[39m(\u001b[38;5;28mself\u001b[39m, axis: \u001b[38;5;28mint\u001b[39m, labels: Index) \u001b[38;5;241m-\u001b[39m\u001b[38;5;241m>\u001b[39m \u001b[38;5;28;01mNone\u001b[39;00m:\n\u001b[0;32m    768\u001b[0m     labels \u001b[38;5;241m=\u001b[39m ensure_index(labels)\n\u001b[1;32m--> 769\u001b[0m     \u001b[38;5;28;43mself\u001b[39;49m\u001b[38;5;241;43m.\u001b[39;49m\u001b[43m_mgr\u001b[49m\u001b[38;5;241;43m.\u001b[39;49m\u001b[43mset_axis\u001b[49m\u001b[43m(\u001b[49m\u001b[43maxis\u001b[49m\u001b[43m,\u001b[49m\u001b[43m \u001b[49m\u001b[43mlabels\u001b[49m\u001b[43m)\u001b[49m\n\u001b[0;32m    770\u001b[0m     \u001b[38;5;28mself\u001b[39m\u001b[38;5;241m.\u001b[39m_clear_item_cache()\n",
      "File \u001b[1;32m~\\conda\\lib\\site-packages\\pandas\\core\\internals\\managers.py:214\u001b[0m, in \u001b[0;36mBaseBlockManager.set_axis\u001b[1;34m(self, axis, new_labels)\u001b[0m\n\u001b[0;32m    212\u001b[0m \u001b[38;5;28;01mdef\u001b[39;00m \u001b[38;5;21mset_axis\u001b[39m(\u001b[38;5;28mself\u001b[39m, axis: \u001b[38;5;28mint\u001b[39m, new_labels: Index) \u001b[38;5;241m-\u001b[39m\u001b[38;5;241m>\u001b[39m \u001b[38;5;28;01mNone\u001b[39;00m:\n\u001b[0;32m    213\u001b[0m     \u001b[38;5;66;03m# Caller is responsible for ensuring we have an Index object.\u001b[39;00m\n\u001b[1;32m--> 214\u001b[0m     \u001b[38;5;28;43mself\u001b[39;49m\u001b[38;5;241;43m.\u001b[39;49m\u001b[43m_validate_set_axis\u001b[49m\u001b[43m(\u001b[49m\u001b[43maxis\u001b[49m\u001b[43m,\u001b[49m\u001b[43m \u001b[49m\u001b[43mnew_labels\u001b[49m\u001b[43m)\u001b[49m\n\u001b[0;32m    215\u001b[0m     \u001b[38;5;28mself\u001b[39m\u001b[38;5;241m.\u001b[39maxes[axis] \u001b[38;5;241m=\u001b[39m new_labels\n",
      "File \u001b[1;32m~\\conda\\lib\\site-packages\\pandas\\core\\internals\\base.py:69\u001b[0m, in \u001b[0;36mDataManager._validate_set_axis\u001b[1;34m(self, axis, new_labels)\u001b[0m\n\u001b[0;32m     66\u001b[0m     \u001b[38;5;28;01mpass\u001b[39;00m\n\u001b[0;32m     68\u001b[0m \u001b[38;5;28;01melif\u001b[39;00m new_len \u001b[38;5;241m!=\u001b[39m old_len:\n\u001b[1;32m---> 69\u001b[0m     \u001b[38;5;28;01mraise\u001b[39;00m \u001b[38;5;167;01mValueError\u001b[39;00m(\n\u001b[0;32m     70\u001b[0m         \u001b[38;5;124mf\u001b[39m\u001b[38;5;124m\"\u001b[39m\u001b[38;5;124mLength mismatch: Expected axis has \u001b[39m\u001b[38;5;132;01m{\u001b[39;00mold_len\u001b[38;5;132;01m}\u001b[39;00m\u001b[38;5;124m elements, new \u001b[39m\u001b[38;5;124m\"\u001b[39m\n\u001b[0;32m     71\u001b[0m         \u001b[38;5;124mf\u001b[39m\u001b[38;5;124m\"\u001b[39m\u001b[38;5;124mvalues have \u001b[39m\u001b[38;5;132;01m{\u001b[39;00mnew_len\u001b[38;5;132;01m}\u001b[39;00m\u001b[38;5;124m elements\u001b[39m\u001b[38;5;124m\"\u001b[39m\n\u001b[0;32m     72\u001b[0m     )\n",
      "\u001b[1;31mValueError\u001b[0m: Length mismatch: Expected axis has 348 elements, new values have 0 elements"
     ]
    }
   ],
   "source": [
    "# n of observations for a stock\n",
    "n_t = NASDAQ_100_[NASDAQ_100_['Name'] == 'AAPL'].shape[0]\n",
    "# n of stocks\n",
    "n_a = len(Symbols)\n",
    "\n",
    "# empty dataframe\n",
    "NASDAQ_100 = pd.DataFrame(columns = Symbols)\n",
    "\n",
    "\n",
    "# create dataframe where rows are closing price at a given day, and columns are individual stocks\n",
    "for i in Symbols:\n",
    "    NASDAQ_100[i] = pd.Series(NASDAQ_100_[NASDAQ_100_['Name'] == i]['Close'].values)\n",
    "\n",
    "NASDAQ_100 = NASDAQ_100.dropna(axis=1)\n",
    "NASDAQ_100.index = NASDAQ_100_[NASDAQ_100_['Name'] == i].index"
   ]
  },
  {
   "cell_type": "code",
   "execution_count": null,
   "id": "625e74b8",
   "metadata": {},
   "outputs": [],
   "source": [
    "NASDAQ_100"
   ]
  },
  {
   "cell_type": "code",
   "execution_count": null,
   "id": "fda520dc",
   "metadata": {},
   "outputs": [],
   "source": [
    "# saves dataset to excel .xlsx\n",
    "NASDAQ_100.to_excel(\"NASDAQ_100.xlsx\",)  \n",
    "\n",
    "NASDAQ_100_T = NASDAQ_100.T\n",
    "NASDAQ_100_T.to_excel(\"NASDAQ_100_T.xlsx\",)  "
   ]
  }
 ],
 "metadata": {
  "kernelspec": {
   "display_name": "Python 3 (ipykernel)",
   "language": "python",
   "name": "python3"
  },
  "language_info": {
   "codemirror_mode": {
    "name": "ipython",
    "version": 3
   },
   "file_extension": ".py",
   "mimetype": "text/x-python",
   "name": "python",
   "nbconvert_exporter": "python",
   "pygments_lexer": "ipython3",
   "version": "3.9.7"
  }
 },
 "nbformat": 4,
 "nbformat_minor": 5
}
